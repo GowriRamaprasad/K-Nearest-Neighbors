{
 "cells": [
  {
   "cell_type": "markdown",
   "metadata": {},
   "source": [
    "# Exploratory Data Analysis and K - Means Implementation"
   ]
  },
  {
   "cell_type": "code",
   "execution_count": 1,
   "metadata": {
    "collapsed": true
   },
   "outputs": [],
   "source": [
    "#Inital library downloads\n",
    "import IPython\n",
    "import numpy as np\n",
    "import scipy as sp\n",
    "import pandas as pd\n",
    "import matplotlib\n",
    "import sklearn"
   ]
  },
  {
   "cell_type": "markdown",
   "metadata": {},
   "source": [
    "---\n",
    "\n",
    "## Introduction to the assignment\n",
    "\n",
    "For this project I am using the Boston Housing Prices Data Set.  This used to be housed by [UCI Machine Learning Repository](http://archive.ics.uci.edu/ml/datasets/Housing), but it is not housed there any more. You can read about it at [Kaggle](https://www.kaggle.com/vikrishnan/boston-house-prices) and at the [University of Toronto](https://www.cs.toronto.edu/~delve/data/boston/bostonDetail.html).\n"
   ]
  },
  {
   "cell_type": "code",
   "execution_count": 2,
   "metadata": {
    "collapsed": true
   },
   "outputs": [],
   "source": [
    "from sklearn.datasets import load_boston\n",
    "bdata = load_boston()"
   ]
  },
  {
   "cell_type": "markdown",
   "metadata": {},
   "source": [
    "The following commands will provide some basic information about the shape of the data:"
   ]
  },
  {
   "cell_type": "code",
   "execution_count": 3,
   "metadata": {},
   "outputs": [
    {
     "name": "stdout",
     "output_type": "stream",
     "text": [
      "dict_keys(['data', 'target', 'feature_names', 'DESCR'])\n",
      "['CRIM' 'ZN' 'INDUS' 'CHAS' 'NOX' 'RM' 'AGE' 'DIS' 'RAD' 'TAX' 'PTRATIO'\n",
      " 'B' 'LSTAT']\n",
      "(506, 13)\n",
      "(506,)\n",
      "Boston House Prices dataset\n",
      "===========================\n",
      "\n",
      "Notes\n",
      "------\n",
      "Data Set Characteristics:  \n",
      "\n",
      "    :Number of Instances: 506 \n",
      "\n",
      "    :Number of Attributes: 13 numeric/categorical predictive\n",
      "    \n",
      "    :Median Value (attribute 14) is usually the target\n",
      "\n",
      "    :Attribute Information (in order):\n",
      "        - CRIM     per capita crime rate by town\n",
      "        - ZN       proportion of residential land zoned for lots over 25,000 sq.ft.\n",
      "        - INDUS    proportion of non-retail business acres per town\n",
      "        - CHAS     Charles River dummy variable (= 1 if tract bounds river; 0 otherwise)\n",
      "        - NOX      nitric oxides concentration (parts per 10 million)\n",
      "        - RM       average number of rooms per dwelling\n",
      "        - AGE      proportion of owner-occupied units built prior to 1940\n",
      "        - DIS      weighted distances to five Boston employment centres\n",
      "        - RAD      index of accessibility to radial highways\n",
      "        - TAX      full-value property-tax rate per $10,000\n",
      "        - PTRATIO  pupil-teacher ratio by town\n",
      "        - B        1000(Bk - 0.63)^2 where Bk is the proportion of blacks by town\n",
      "        - LSTAT    % lower status of the population\n",
      "        - MEDV     Median value of owner-occupied homes in $1000's\n",
      "\n",
      "    :Missing Attribute Values: None\n",
      "\n",
      "    :Creator: Harrison, D. and Rubinfeld, D.L.\n",
      "\n",
      "This is a copy of UCI ML housing dataset.\n",
      "http://archive.ics.uci.edu/ml/datasets/Housing\n",
      "\n",
      "\n",
      "This dataset was taken from the StatLib library which is maintained at Carnegie Mellon University.\n",
      "\n",
      "The Boston house-price data of Harrison, D. and Rubinfeld, D.L. 'Hedonic\n",
      "prices and the demand for clean air', J. Environ. Economics & Management,\n",
      "vol.5, 81-102, 1978.   Used in Belsley, Kuh & Welsch, 'Regression diagnostics\n",
      "...', Wiley, 1980.   N.B. Various transformations are used in the table on\n",
      "pages 244-261 of the latter.\n",
      "\n",
      "The Boston house-price data has been used in many machine learning papers that address regression\n",
      "problems.   \n",
      "     \n",
      "**References**\n",
      "\n",
      "   - Belsley, Kuh & Welsch, 'Regression diagnostics: Identifying Influential Data and Sources of Collinearity', Wiley, 1980. 244-261.\n",
      "   - Quinlan,R. (1993). Combining Instance-Based and Model-Based Learning. In Proceedings on the Tenth International Conference of Machine Learning, 236-243, University of Massachusetts, Amherst. Morgan Kaufmann.\n",
      "   - many more! (see http://archive.ics.uci.edu/ml/datasets/Housing)\n",
      "\n",
      "(506, 14)\n"
     ]
    }
   ],
   "source": [
    "print (bdata.keys())\n",
    "print (bdata.feature_names)\n",
    "print (bdata.data.shape)\n",
    "print (bdata.target.shape)\n",
    "#uncomment the following if you want to see a lengthy description of the dataset\n",
    "print (bdata.DESCR)\n",
    "#print(bdata.data)\n",
    "#convert data to an array\n",
    "bdata_array = np.insert(bdata.data, bdata.data.shape[1], bdata.target, axis = 1)\n",
    "print(bdata_array.shape)"
   ]
  },
  {
   "cell_type": "markdown",
   "metadata": {},
   "source": [
    "---\n",
    "\n",
    "## Part 1: Descriptive analysis\n",
    "\n",
    "Intially, I am exploring the data to try and understand various features and explore potential relationships. \n",
    "### 1.1: Histogram of housing prices\n",
    "\n",
    "I have created a histogram of the housing prices to understand variances. The visualization is created using matplotlib."
   ]
  },
  {
   "cell_type": "code",
   "execution_count": 4,
   "metadata": {},
   "outputs": [
    {
     "data": {
      "text/plain": [
       "(array([  3.,   1.,   7.,  10.,   3.,  10.,   9.,   9.,  24.,  18.,  16.,\n",
       "         16.,  22.,  25.,  37.,  36.,  31.,  35.,  37.,  25.,  11.,   8.,\n",
       "          9.,  10.,  10.,   7.,   8.,   7.,   9.,   5.,   4.,   6.,   5.,\n",
       "          1.,   1.,   0.,   2.,   2.,   3.,   2.,   1.,   2.,   0.,   3.,\n",
       "         16.]),\n",
       " array([  5.,   6.,   7.,   8.,   9.,  10.,  11.,  12.,  13.,  14.,  15.,\n",
       "         16.,  17.,  18.,  19.,  20.,  21.,  22.,  23.,  24.,  25.,  26.,\n",
       "         27.,  28.,  29.,  30.,  31.,  32.,  33.,  34.,  35.,  36.,  37.,\n",
       "         38.,  39.,  40.,  41.,  42.,  43.,  44.,  45.,  46.,  47.,  48.,\n",
       "         49.,  50.]),\n",
       " <a list of 45 Patch objects>)"
      ]
     },
     "execution_count": 4,
     "metadata": {},
     "output_type": "execute_result"
    },
    {
     "data": {
      "image/png": "[encoded data removed]",
      "text/plain": [
       "<matplotlib.figure.Figure at 0x1909dfba978>"
      ]
     },
     "metadata": {},
     "output_type": "display_data"
    }
   ],
   "source": [
    "%matplotlib inline  \n",
    "import matplotlib.pyplot as plt  \n",
    "\n",
    "# Change the bin width on the histogram to be $1000\n",
    "binwidth = 1\n",
    "axes = plt.subplot(111)\n",
    "#Add appropriate labels to the x and y axes, make sure to include units\n",
    "plt.xlabel(\"Median Housing prices in $1000\") \n",
    "plt.ylabel(\"Count of houses\")\n",
    "#Remove the axes on the top and right side of the plot window\n",
    "axes.spines['right'].set_visible(False)\n",
    "axes.spines['top'].set_visible(False)\n",
    "plt.title(\"Histogram of median housing prices in Boston\")\n",
    "#Change the color of the bars to be green, and remove the black borders from the bars\n",
    "plt.hist(bdata.target, bins = np.arange(min(bdata.target),max(bdata.target)+ binwidth, binwidth), color ='green')"
   ]
  },
  {
   "cell_type": "markdown",
   "metadata": {},
   "source": [
    "### 1.2: Scatter plot of housing prices and crime\n",
    "\n",
    "I have then created a scatter plot that shows the relationship between the median value of the home (y-axis) and the per-capita crime rate (x-axis).  "
   ]
  },
  {
   "cell_type": "code",
   "execution_count": 5,
   "metadata": {},
   "outputs": [
    {
     "data": {
      "image/png": "[encoded data removed]",
      "text/plain": [
       "<matplotlib.figure.Figure at 0x1909dfba048>"
      ]
     },
     "metadata": {},
     "output_type": "display_data"
    }
   ],
   "source": [
    "axes_scatter_plot = plt.axes()\n",
    "#Removal of unwanted information\n",
    "axes_scatter_plot.spines['right'].set_visible(False)\n",
    "axes_scatter_plot.spines['top'].set_visible(False)\n",
    "#Labelling the axes\n",
    "plt.xlabel('Per Capita Crime rate')\n",
    "plt.ylabel('Median value of owner-occupied homes in $1000s')\n",
    "#Title \n",
    "plt.title('Median Value of The Home Versus the Per Capita Crime Rate')\n",
    "#transperancy to highlight the effects \n",
    "plt.scatter(bdata_array[:,0], bdata_array[:,13], alpha = 0.5)\n",
    "plt.show()"
   ]
  },
  {
   "cell_type": "markdown",
   "metadata": {},
   "source": [
    "### 1.3 Scatter plot to examine nitrogen oxide content and median house values\n"
   ]
  },
  {
   "cell_type": "code",
   "execution_count": 6,
   "metadata": {},
   "outputs": [
    {
     "data": {
      "image/png": "[encoded data removed]",
      "text/plain": [
       "<matplotlib.figure.Figure at 0x1909fb1fe80>"
      ]
     },
     "metadata": {},
     "output_type": "display_data"
    }
   ],
   "source": [
    "# enter your code here\n",
    "axes_scatter_plot = plt.axes()\n",
    "#Removal of unwanted information\n",
    "axes_scatter_plot.spines['right'].set_visible(False)\n",
    "axes_scatter_plot.spines['top'].set_visible(False)\n",
    "#Labelling the axes\n",
    "plt.xlabel('Nitrogen Oxide Content')\n",
    "plt.ylabel('Median value of owner-occupied homes in $1000s')\n",
    "#Title \n",
    "plt.title('Median Value of The Home Versus the Nitrogen Oxide content')\n",
    "#transperancy to highlight the effects \n",
    "plt.scatter(bdata_array[:,4],bdata_array[:,13] , marker='o', s=30, linewidths=4, c=bdata_array[:,13], cmap=plt.cm.coolwarm)\n",
    "plt.show()"
   ]
  },
  {
   "cell_type": "markdown",
   "metadata": {},
   "source": [
    "I have examined the nitrogen oxide content in the soil versus the median monetory value of the house. I have also used a color palette which indicates red for higher valued houses and blue for low. I did this, to clearly illustrate how drastic enviromental hazards play a role in house prices. "
   ]
  },
  {
   "cell_type": "markdown",
   "metadata": {},
   "source": [
    "---\n",
    "\n",
    "## Part 2: Experimental Setup\n",
    "\n",
    "The goal of the next few sections is to design an experiment to predict the median home value for an instance in the data.\n",
    "\n",
    "### 2.1  Root Mean Squared Error for a list of numbers"
   ]
  },
  {
   "cell_type": "code",
   "execution_count": 7,
   "metadata": {
    "collapsed": true
   },
   "outputs": [],
   "source": [
    "\"\"\"\n",
    "Function\n",
    "--------\n",
    "compute_rmse\n",
    "\n",
    "Given two arrays, one of actual values and one of predicted values,\n",
    "compute the Roote Mean Squared Error\n",
    "\n",
    "Parameters\n",
    "----------\n",
    "predictions : array\n",
    "    Array of numerical values corresponding to predictions for each of the N observations\n",
    "\n",
    "yvalues : array\n",
    "    Array of numerical values corresponding to the actual values for each of the N observations\n",
    "\n",
    "Returns\n",
    "-------\n",
    "rmse : int\n",
    "    Root Mean Squared Error of the prediction\n",
    "\n",
    "Example\n",
    "-------\n",
    ">>> print compute_rmse((2,2,3),(0,2,6)\n",
    "2.16\n",
    "\"\"\"\n",
    "def compute_rmse(predictions, yvalues):\n",
    "    error = np.abs(np.asarray((predictions) - np.asarray(yvalues)))\n",
    "    square = error **2\n",
    "    mean = square.sum()/len(yvalues)\n",
    "    rmse = np.sqrt(mean)\n",
    "    return rmse   "
   ]
  },
  {
   "cell_type": "markdown",
   "metadata": {},
   "source": [
    "### 2.2 Divide data into training and testing datasets\n",
    "\n",
    "I have randomly select 66% of the data and put this in a training dataset (call this \"bdata_train\"), and place the remaining 34% in a testing dataset (call this \"bdata_test\")\n"
   ]
  },
  {
   "cell_type": "code",
   "execution_count": 8,
   "metadata": {},
   "outputs": [
    {
     "name": "stdout",
     "output_type": "stream",
     "text": [
      "(333, 14)\n",
      "(173, 14)\n"
     ]
    }
   ],
   "source": [
    "from sklearn.model_selection import train_test_split\n",
    "bdata_train, bdata_test = train_test_split(bdata_array, train_size = 0.66,test_size=0.34, random_state= 13579)\n",
    "print(bdata_train.shape)\n",
    "print(bdata_test.shape)"
   ]
  },
  {
   "cell_type": "markdown",
   "metadata": {},
   "source": [
    "### 2.3 Using mean MEDV as baseline, I have checked for RMSE\n",
    "\n",
    "I have initially created a model that predicts, for every observation x_i, that the median home value is the average (mean) of the median values for all instances in the training set.  I have computed the RMSE on the training set.  And computed the RMSE on the test data set."
   ]
  },
  {
   "cell_type": "code",
   "execution_count": 9,
   "metadata": {},
   "outputs": [
    {
     "name": "stdout",
     "output_type": "stream",
     "text": [
      "Rmse of Training data:  9.43\n",
      "Rmse of Test data:  8.75\n"
     ]
    }
   ],
   "source": [
    "# enter your code here\n",
    "mean_of_MEDV = bdata_train[:,13].mean()                       #Calculate the mean of the MEDV column\n",
    "predicted_value = np.full(len(bdata_train), mean_of_MEDV)     #Populate the mean to every row \n",
    "rmse_value = compute_rmse(predicted_value,bdata_train[:,13])\n",
    "print(\"Rmse of Training data: \",np.round(rmse_value,2))      #Calculate the RMSE Value for the training data\n",
    "\n",
    "predicted_value_for_test = np.full(len(bdata_test),mean_of_MEDV) #Do the same for the test data\n",
    "rmse_value_for_test = compute_rmse(predicted_value_for_test,bdata_test[:,13])\n",
    "print(\"Rmse of Test data: \",np.round(rmse_value_for_test,2))\n"
   ]
  },
  {
   "cell_type": "markdown",
   "metadata": {},
   "source": [
    "RMSE is a mesaure of deviation between the sample and the population. When the RMSE for the model is calculated over the training data it is 9.43. And since the RMSE value of the test data is 8.75 we see that it fits well. However, this is upto random chance, since we have not stratified the data or conducted a fair sampling. "
   ]
  },
  {
   "cell_type": "markdown",
   "metadata": {},
   "source": [
    "---\n",
    "\n",
    "## Part 3: Nearest Neighbors\n"
   ]
  },
  {
   "cell_type": "markdown",
   "metadata": {},
   "source": [
    "### 3.1 Nearest Neighbors: Distance function\n",
    "Let's try and build a machine learning algorithm to beat the \"Average Value\" baseline that you computed above.  Soon you will implement the Nearest Neighbor algorithm, but first you need to create a distance metric to measure the distance (and similarity) between two instances.  Write a generic function to compute the L-Norm distance (called the [*p*-norm](http://en.wikipedia.org/wiki/Norm_(mathematics) distance on Wikipedia). Verify that your function works by computing the Euclidean distance between the points (3,4) and (6,8)."
   ]
  },
  {
   "cell_type": "code",
   "execution_count": 10,
   "metadata": {},
   "outputs": [
    {
     "name": "stdout",
     "output_type": "stream",
     "text": [
      "5.0\n"
     ]
    }
   ],
   "source": [
    "\"\"\"\n",
    "Function\n",
    "--------\n",
    "distance\n",
    "\n",
    "Given two instances and a value for L, return the L-Norm distance between them\n",
    "\n",
    "Parameters\n",
    "----------\n",
    "x1, x2 : array\n",
    "    Array of numerical values corresponding to predictions for each of the N observations\n",
    "\n",
    "L: int\n",
    "    Value of L to use in computing distances\n",
    "\n",
    "Returns\n",
    "-------\n",
    "dist : int\n",
    "    The L-norm distance between instances\n",
    "\n",
    "Example\n",
    "-------\n",
    ">>> print distance((3,4),(6,8),2)\n",
    "7\n",
    "\n",
    "\"\"\"\n",
    "def distance(x1, x2, L):\n",
    "    difference = np.abs(np.asarray(x1) - np.asarray(x2))        #Compute the difference between points \n",
    "    difference_to_power_L = np.power(difference,L)              #Power the distance to L\n",
    "    sum_of_power_L = difference_to_power_L.sum(axis = 0)        #Sum of the powers\n",
    "    dist = np.power(sum_of_power_L,(1.0/L))                     #Compute the root to L\n",
    "    return dist\n",
    "print(distance((3,4),(6,8),2))"
   ]
  },
  {
   "cell_type": "markdown",
   "metadata": {},
   "source": [
    "### 3.2 Basic Nearest Neighbor algorithm\n",
    "\n",
    "  I have impelemented a simple model which uses two input features (CRIM and RM) and a single output (MEDV).  I am modelling a relationship between median home value and crime rates and house size."
   ]
  },
  {
   "cell_type": "code",
   "execution_count": 11,
   "metadata": {},
   "outputs": [
    {
     "name": "stdout",
     "output_type": "stream",
     "text": [
      "Time taken:0.77seconds\n",
      "RMSE of our basic model:  6.68101009981\n"
     ]
    },
    {
     "data": {
      "image/png": "[encoded data removed]",
      "text/plain": [
       "<matplotlib.figure.Figure at 0x1909ffdd940>"
      ]
     },
     "metadata": {},
     "output_type": "display_data"
    }
   ],
   "source": [
    "\"\"\"\n",
    "# write your function specification here!\n",
    "\"\"\"\n",
    "import time\n",
    "def nneighbor(test_data,train_data,L):\n",
    "    start_time = time.time()                          #Measure time to check effeciency of the algorithm \n",
    "    predicted_medv = []                               #Predicted values stored in an array\n",
    "    for i in test_data:\n",
    "        predicted_value = None\n",
    "        minimum_distance = None\n",
    "        for j in train_data:\n",
    "            dist = distance(j[:-1],i[:-1],L)      #Calculate the eucledian distance for the point with the neighbor from train\n",
    "            if minimum_distance is None:\n",
    "                predicted_value = j[j.shape[0]-1] #MedV prediction based on nearest neighbor\n",
    "                minimum_distance = dist           #Eucledian distance is the minimum \n",
    "            if dist < minimum_distance:           #Change the minimum distance if a nearer neighbor is found\n",
    "                predicted_value = j[j.shape[0]-1] \n",
    "                minimum_distance = dist\n",
    "        predicted_medv.append(predicted_value)    #Append predicted value\n",
    "    predicted_medv = np.array(predicted_medv)\n",
    "    rmse = compute_rmse(predicted_medv,test_data[:,(test_data.shape[1]-1)])  #Compute error term for predicted values\n",
    "    \n",
    "    print(\"Time taken:\" + str(round(time.time() - start_time,2)) + \"seconds\") #Compute time taken \n",
    "    return predicted_medv,rmse\n",
    "predicted_medv, rmse = nneighbor(bdata_test[:,[0,5,13]],bdata_train[:,[0,5,13]],2)\n",
    "print(\"RMSE of our basic model: \",rmse)\n",
    "plt.scatter(bdata_test[:,13], predicted_medv, s = 30, alpha =0.5)\n",
    "plt.xlabel('Actual Value of MEDV')\n",
    "plt.ylabel('Predicted Value of MEDV')\n",
    "plt.title('Actual vs Predicted Values of Median Value of Houses')\n",
    "plt.show()"
   ]
  },
  {
   "cell_type": "markdown",
   "metadata": {},
   "source": [
    "### 3.3 Results and Normalization\n",
    "\n",
    "To optimize, I apply a generic normalization function that takes as input an array of values for a given feature, and returns the normalized array (subtract the mean and divide by the standard deviation).\n"
   ]
  },
  {
   "cell_type": "code",
   "execution_count": 12,
   "metadata": {},
   "outputs": [
    {
     "name": "stdout",
     "output_type": "stream",
     "text": [
      "Time taken:0.83seconds\n",
      "RMSE with normalization: 6.80097323875\n"
     ]
    },
    {
     "data": {
      "image/png": "[encoded data removed]",
      "text/plain": [
       "<matplotlib.figure.Figure at 0x1909ffdd908>"
      ]
     },
     "metadata": {},
     "output_type": "display_data"
    }
   ],
   "source": [
    "\"\"\"\n",
    "# write your function specification here!\n",
    "\"\"\"\n",
    "def normalize(data):\n",
    "    for j in range(0,data.shape[1]-1):\n",
    "        # To normalize each colum of data we substract from each row the mean of the column and divide it \n",
    "        #  by the std deviation of the column\n",
    "        data[:,j] = (data[:,j]-data[:,j].mean())/(data[:,j].std())\n",
    "    return data\n",
    "\n",
    "\n",
    "bdata_test_normal = normalize(bdata_test[:,(0,5,13)])\n",
    "bdata_train_normal =  normalize(bdata_train[:,(0,5,13)])\n",
    "predictions_normalized , rmse = nneighbor(bdata_test_normal,bdata_train_normal,2)\n",
    "print(\"RMSE with normalization:\",rmse)\n",
    "plt.scatter(bdata_test_normal[:,2],predictions_normalized, alpha = 0.5)\n",
    "plt.xlabel('Actual Value of MEDV')\n",
    "plt.ylabel('Predicted Value of MEDV')\n",
    "plt.title('Actual vs Predicted Values of Median Value of Houses with Normalization')\n",
    "plt.show()"
   ]
  },
  {
   "cell_type": "markdown",
   "metadata": {},
   "source": [
    "More predicted values of median housing price mapped to actual prices when normalized. The RMSE value increased from 6.68 to 6.80. "
   ]
  },
  {
   "cell_type": "markdown",
   "metadata": {},
   "source": [
    "### 3.4 Optimization\n",
    "\n",
    "I then try to increase the performance of my nearest neighbor algorithm by adding features that may be  relevant, and by using different values of L in the distance function.  "
   ]
  },
  {
   "cell_type": "markdown",
   "metadata": {},
   "source": [
    "I am considering a few features which I believe might impact the house prices such as :\n",
    "1.  Enviromental factors such as NOX (Nitrogen oxide content in the soil) and CHAS (Proximity to the       river charles) \n",
    "2.  Tax on the house \n",
    "3.  Parent to teacher ratio "
   ]
  },
  {
   "cell_type": "code",
   "execution_count": 13,
   "metadata": {},
   "outputs": [
    {
     "name": "stdout",
     "output_type": "stream",
     "text": [
      "Time taken:0.88seconds\n",
      "RMSE of Model 1: 8.7019664245\n",
      "Time taken:0.77seconds\n",
      "RMSE of Model 2: 5.91858540356\n",
      "Time taken:0.89seconds\n",
      "RMSE of Model 3: 8.90697265347\n"
     ]
    }
   ],
   "source": [
    "predictions_trial1 , rmse = nneighbor(normalize(bdata_test[:,(3,5,13)]), normalize(bdata_train[:,(3,5,13)]),2)\n",
    "print(\"RMSE of Model 1:\",rmse)\n",
    "predictions_trial2 , rmse  = nneighbor(normalize(bdata_test[:,(0,5,9,13)]), normalize(bdata_train[:,(0,5,9,13)]),1)\n",
    "print(\"RMSE of Model 2:\",rmse)\n",
    "predictions_trial3 , rmse = nneighbor(normalize(bdata_test[:,(0,10,13)]), normalize(bdata_train[:,(0,10,13)]),2)\n",
    "print(\"RMSE of Model 3:\",rmse)\n",
    "\n"
   ]
  },
  {
   "cell_type": "markdown",
   "metadata": {},
   "source": [
    "Model 1 and Model 3 have higher RMSE values while model 2 has a lower RMSE value. Thus the combination of Crime rate,Tax, Proximity to the River Charles seem to have the least errors. It also appears to take the least time to run. "
   ]
  },
  {
   "cell_type": "markdown",
   "metadata": {},
   "source": [
    "### 3.5 Cross-Validation\n",
    "\n",
    " To prevent overfitting, I have used cross-validation. Here I implement a simple k-fold cross-validation algorithm.  \n",
    "\n",
    "I use 10-fold cross-validation and report the average RMSE for Nearest Neighbors using Euclidean distance with CRIM and RM input features, as well as the total running time for the full run of 10 folds. "
   ]
  },
  {
   "cell_type": "code",
   "execution_count": 14,
   "metadata": {},
   "outputs": [
    {
     "name": "stdout",
     "output_type": "stream",
     "text": [
      "Time taken:0.35seconds\n",
      "Time taken:0.38seconds\n",
      "Time taken:0.4seconds\n",
      "Time taken:0.35seconds\n",
      "Time taken:0.28seconds\n",
      "Time taken:0.29seconds\n",
      "Time taken:0.31seconds\n",
      "Time taken:0.29seconds\n",
      "Time taken:0.3seconds\n",
      "Time taken:0.28seconds\n",
      "RMSE of Cross Validated Model: 7.45896063609\n"
     ]
    }
   ],
   "source": [
    "# enter your code here\n",
    "def cross_validation(data,L,K,model):\n",
    "    np.random.seed(seed=13579)\n",
    "    np.random.shuffle(data)                #Shuffle the data in different ways \n",
    "    total_rmse = 0\n",
    "    for i in range(10):                    #Itirate through each fold\n",
    "        start = int((i/10)*data.shape[0]) # Take test data from each fold \n",
    "        stop = int(((i+1)/10)*data.shape[0])\n",
    "        test_range = range(start,stop)   #Assign test data \n",
    "        test = data[test_range,:]        \n",
    "        train = np.delete(data,test_range,0) #Extract training data \n",
    "        if model == \"nneighbors\":            #Check the model to call the appropriate function\n",
    "            predictions , rmse = nneighbor(test,train,L)\n",
    "        if model == \"knn\":\n",
    "            predictions , rmse = knn(test,train,L,K)\n",
    "        total_rmse += rmse\n",
    "    mean_rmse = total_rmse/10   #Calculate the mean RMSE for all the folds \n",
    "    return mean_rmse\n",
    "rmse_mean = cross_validation(normalize(bdata_array[ :,(0,5,13)]),2,3,\"nneighbors\")\n",
    "print(\"RMSE of Cross Validated Model:\",rmse_mean)\n"
   ]
  },
  {
   "cell_type": "markdown",
   "metadata": {},
   "source": [
    "###  3.6 K-Nearest Neighbors Algorithm\n",
    "\n",
    "I have implemented the K-Nearest Neighbors algorithm.  Using 10-fold cross validation, reported the RMSE for K=3 and the running time of the algorithm."
   ]
  },
  {
   "cell_type": "code",
   "execution_count": 16,
   "metadata": {},
   "outputs": [
    {
     "name": "stdout",
     "output_type": "stream",
     "text": [
      "Time taken:0.47seconds\n",
      "Time taken:0.44seconds\n",
      "Time taken:0.35seconds\n",
      "Time taken:0.35seconds\n",
      "Time taken:0.45seconds\n",
      "Time taken:0.33seconds\n",
      "Time taken:0.32seconds\n",
      "Time taken:0.34seconds\n",
      "Time taken:0.41seconds\n",
      "Time taken:0.42seconds\n",
      "RMSE with 10-fold cross-validation and K=3: 5.56311927093\n"
     ]
    }
   ],
   "source": [
    "import operator\n",
    "import time\n",
    "def knn(test_data, train_data, L,K):\n",
    "    start_time = time.time()\n",
    "    predicted_medv = []\n",
    "    for i in test_data:\n",
    "            Neighbors = []\n",
    "            for j in train_data:\n",
    "                dist = distance(j[:-1],i[:-1],L) #determine the distance of the neighbor\n",
    "                Neighbors.append((j[j.shape[0]-1], dist)) #Append the distance\n",
    "            Neighbors.sort(key = operator.itemgetter(1),reverse = False) #Sort the neigbors in ascending order of distance\n",
    "            predicted_medv.append(np.mean(Neighbors[0:K],axis = 0)) #Take the nearest K neighbors \n",
    "    predicted_medv = np.array(predicted_medv)\n",
    "    print(\"Time taken:\" + str(round(time.time() - start_time,2)) + \"seconds\")\n",
    "    return predicted_medv,compute_rmse(test_data[:,(test_data.shape[1]-1)],predicted_medv[:,0])\n",
    "rmse_mean = cross_validation(normalize(bdata_array[:,(0,5,13)]),2,3,'knn') # 10 fold cross validation \n",
    "print(\"RMSE with 10-fold cross-validation and K=3:\",rmse_mean)"
   ]
  },
  {
   "cell_type": "markdown",
   "metadata": {},
   "source": [
    "Here the RMSE value reduces significantly to 5.56, which indicates that this is a better model than when sampled randomly. "
   ]
  },
  {
   "cell_type": "markdown",
   "metadata": {},
   "source": [
    "### 3.7 Using cross validation to find K\n",
    "\n",
    "To determine best choice for K I compute the RMSE for values of K between 1 and 25 using 10-fold cross-validation.  Use the following features in my model, and with normalization: CRIM, ZN, RM, AGE, DIS, TAX.  I then created a graph that shows how RMSE changes as K increases from 1 to 25.   "
   ]
  },
  {
   "cell_type": "code",
   "execution_count": null,
   "metadata": {},
   "outputs": [
    {
     "name": "stdout",
     "output_type": "stream",
     "text": [
      "Time taken:0.33seconds\n",
      "Time taken:0.32seconds\n",
      "Time taken:0.32seconds\n",
      "Time taken:0.32seconds\n",
      "Time taken:0.45seconds\n",
      "Time taken:0.31seconds\n",
      "Time taken:0.33seconds\n",
      "Time taken:0.31seconds\n",
      "Time taken:0.31seconds\n",
      "Time taken:0.4seconds\n",
      "Time taken:0.33seconds\n",
      "Time taken:0.32seconds\n",
      "Time taken:0.38seconds\n",
      "Time taken:0.35seconds\n",
      "Time taken:0.32seconds\n",
      "Time taken:0.31seconds\n",
      "Time taken:0.31seconds\n",
      "Time taken:0.3seconds\n",
      "Time taken:0.31seconds\n",
      "Time taken:0.32seconds\n",
      "Time taken:0.3seconds\n",
      "Time taken:0.31seconds\n",
      "Time taken:0.29seconds\n",
      "Time taken:0.32seconds\n",
      "Time taken:0.38seconds\n",
      "Time taken:0.42seconds\n",
      "Time taken:0.43seconds\n",
      "Time taken:0.31seconds\n",
      "Time taken:0.32seconds\n",
      "Time taken:0.31seconds\n",
      "Time taken:0.3seconds\n",
      "Time taken:0.31seconds\n",
      "Time taken:0.31seconds\n",
      "Time taken:0.3seconds\n",
      "Time taken:0.3seconds\n",
      "Time taken:0.29seconds\n",
      "Time taken:0.3seconds\n",
      "Time taken:0.3seconds\n",
      "Time taken:0.31seconds\n",
      "Time taken:0.31seconds\n",
      "Time taken:0.3seconds\n",
      "Time taken:0.31seconds\n",
      "Time taken:0.3seconds\n",
      "Time taken:0.3seconds\n",
      "Time taken:0.31seconds\n",
      "Time taken:0.3seconds\n",
      "Time taken:0.3seconds\n",
      "Time taken:0.31seconds\n",
      "Time taken:0.44seconds\n",
      "Time taken:0.38seconds\n",
      "Time taken:0.31seconds\n",
      "Time taken:0.32seconds\n",
      "Time taken:0.31seconds\n",
      "Time taken:0.3seconds\n",
      "Time taken:0.31seconds\n",
      "Time taken:0.3seconds\n",
      "Time taken:0.5seconds\n",
      "Time taken:0.55seconds\n",
      "Time taken:0.57seconds\n",
      "Time taken:0.49seconds\n",
      "Time taken:0.43seconds\n",
      "Time taken:0.35seconds\n",
      "Time taken:0.31seconds\n",
      "Time taken:0.33seconds\n",
      "Time taken:0.33seconds\n",
      "Time taken:0.33seconds\n",
      "Time taken:0.32seconds\n",
      "Time taken:0.32seconds\n",
      "Time taken:0.33seconds\n",
      "Time taken:0.4seconds\n",
      "Time taken:0.36seconds\n",
      "Time taken:0.4seconds\n",
      "Time taken:0.4seconds\n",
      "Time taken:0.37seconds\n",
      "Time taken:0.32seconds\n",
      "Time taken:0.33seconds\n",
      "Time taken:0.34seconds\n",
      "Time taken:0.31seconds\n",
      "Time taken:0.32seconds\n",
      "Time taken:0.31seconds\n",
      "Time taken:0.3seconds\n",
      "Time taken:0.36seconds\n",
      "Time taken:0.37seconds\n",
      "Time taken:0.33seconds\n",
      "Time taken:0.32seconds\n",
      "Time taken:0.3seconds\n",
      "Time taken:0.3seconds\n",
      "Time taken:0.33seconds\n",
      "Time taken:0.38seconds\n",
      "Time taken:0.32seconds\n",
      "Time taken:0.32seconds\n",
      "Time taken:0.32seconds\n",
      "Time taken:0.41seconds\n",
      "Time taken:0.35seconds\n",
      "Time taken:0.33seconds\n",
      "Time taken:0.31seconds\n",
      "Time taken:0.32seconds\n",
      "Time taken:0.31seconds\n",
      "Time taken:0.33seconds\n",
      "Time taken:0.35seconds\n",
      "Time taken:0.32seconds\n",
      "Time taken:0.33seconds\n",
      "Time taken:0.31seconds\n",
      "Time taken:0.4seconds\n",
      "Time taken:0.38seconds\n",
      "Time taken:0.33seconds\n",
      "Time taken:0.32seconds\n",
      "Time taken:0.33seconds\n",
      "Time taken:0.32seconds\n",
      "Time taken:0.32seconds\n",
      "Time taken:0.31seconds\n",
      "Time taken:0.33seconds\n",
      "Time taken:0.32seconds\n",
      "Time taken:0.37seconds\n",
      "Time taken:0.36seconds\n",
      "Time taken:0.37seconds\n",
      "Time taken:0.36seconds\n",
      "Time taken:0.53seconds\n",
      "Time taken:0.48seconds\n",
      "Time taken:0.42seconds\n",
      "Time taken:0.34seconds\n",
      "Time taken:0.31seconds\n",
      "Time taken:0.3seconds\n",
      "Time taken:0.31seconds\n",
      "Time taken:0.31seconds\n",
      "Time taken:0.31seconds\n",
      "Time taken:0.34seconds\n",
      "Time taken:0.32seconds\n",
      "Time taken:0.32seconds\n",
      "Time taken:0.32seconds\n",
      "Time taken:0.31seconds\n",
      "Time taken:0.32seconds\n",
      "Time taken:0.31seconds\n",
      "Time taken:0.32seconds\n",
      "Time taken:0.31seconds\n",
      "Time taken:0.3seconds\n",
      "Time taken:0.31seconds\n",
      "Time taken:0.29seconds\n",
      "Time taken:0.3seconds\n",
      "Time taken:0.3seconds\n",
      "Time taken:0.3seconds\n",
      "Time taken:0.3seconds\n",
      "Time taken:0.3seconds\n",
      "Time taken:0.3seconds\n",
      "Time taken:0.3seconds\n",
      "Time taken:0.3seconds\n",
      "Time taken:0.31seconds\n",
      "Time taken:0.31seconds\n",
      "Time taken:0.32seconds\n",
      "Time taken:0.33seconds\n",
      "Time taken:0.32seconds\n",
      "Time taken:0.32seconds\n",
      "Time taken:0.32seconds\n",
      "Time taken:0.34seconds\n",
      "Time taken:0.34seconds\n",
      "Time taken:0.34seconds\n",
      "Time taken:0.33seconds\n",
      "Time taken:0.31seconds\n",
      "Time taken:0.35seconds\n",
      "Time taken:0.33seconds\n",
      "Time taken:0.32seconds\n",
      "Time taken:0.31seconds\n",
      "Time taken:0.3seconds\n",
      "Time taken:0.4seconds\n",
      "Time taken:0.32seconds\n",
      "Time taken:0.33seconds\n",
      "Time taken:0.39seconds\n",
      "Time taken:0.44seconds\n",
      "Time taken:0.49seconds\n",
      "Time taken:0.37seconds\n",
      "Time taken:0.35seconds\n"
     ]
    }
   ],
   "source": [
    "\n",
    "\n",
    "rmse_values = []\n",
    "K = 1\n",
    "for i in range(1,26):\n",
    "    rmse = cross_validation(normalize(bdata_array[:,(0,1,5,6,7,9,13)]),2,i,'knn')\n",
    "    rmse_values.append((K,rmse))\n",
    "    K += 1   \n",
    "\n",
    "rmse_values = np.asarray(rmse_values)\n",
    "plt.plot(rmse_values[:,0],rmse_values[:,1])"
   ]
  },
  {
   "cell_type": "markdown",
   "metadata": {},
   "source": [
    "We observe that the RMSE value is significantly lower when we use the 10-fold cross validation technique before implementing knn. \n",
    "To determine K the loop runs from 1 to 25 and we observe that the lowest rmse is at K = 4. And thus we can consider K = 4 as the nearest neighbors.   "
   ]
  },
  {
   "cell_type": "code",
   "execution_count": null,
   "metadata": {
    "collapsed": true
   },
   "outputs": [],
   "source": []
  }
 ],
 "metadata": {
  "kernelspec": {
   "display_name": "Python 3",
   "language": "python",
   "name": "python3"
  },
  "language_info": {
   "codemirror_mode": {
    "name": "ipython",
    "version": 3
   },
   "file_extension": ".py",
   "mimetype": "text/x-python",
   "name": "python",
   "nbconvert_exporter": "python",
   "pygments_lexer": "ipython3",
   "version": "3.6.3"
  }
 },
 "nbformat": 4,
 "nbformat_minor": 1
}
